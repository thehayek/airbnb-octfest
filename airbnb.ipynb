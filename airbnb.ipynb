{
 "cells": [
  {
   "cell_type": "code",
   "execution_count": 1,
   "metadata": {},
   "outputs": [],
   "source": [
    "import pandas as pd\n",
    "import numpy as np\n",
    "import matplotlib.pyplot as plt"
   ]
  },
  {
   "cell_type": "code",
   "execution_count": 2,
   "metadata": {},
   "outputs": [],
   "source": [
    "# Adjust size of upcoming figures\n",
    "fig_size = plt.rcParams[\"figure.figsize\"]\n",
    "fig_size[0] = 15\n",
    "fig_size[1] = 8\n",
    "plt.rcParams[\"figure.figsize\"] = fig_size"
   ]
  },
  {
   "cell_type": "code",
   "execution_count": 3,
   "metadata": {},
   "outputs": [],
   "source": [
    "data_directory = 'Data/20190315/'"
   ]
  },
  {
   "cell_type": "code",
   "execution_count": 4,
   "metadata": {},
   "outputs": [],
   "source": [
    "# Create dataframe for listings\n",
    "df_listings = pd.read_csv(data_directory + 'listings_detailed.csv', dtype=str)\n",
    "df_listings['accommodates'] = pd.to_numeric(df_listings['accommodates'])\n",
    "df_listings['price'] = pd.to_numeric(df_listings['price'].str.replace(',', '').str.replace('$', ''))"
   ]
  },
  {
   "cell_type": "code",
   "execution_count": 5,
   "metadata": {},
   "outputs": [
    {
     "data": {
      "text/plain": [
       "0"
      ]
     },
     "execution_count": 5,
     "metadata": {},
     "output_type": "execute_result"
    }
   ],
   "source": [
    "df_listings['price'].isnull().sum()"
   ]
  },
  {
   "cell_type": "code",
   "execution_count": 6,
   "metadata": {},
   "outputs": [],
   "source": [
    "# Create dataframe for calendar\n",
    "df_calendar = pd.read_csv(data_directory + 'calendar.csv', dtype=str)\n",
    "df_calendar['date'] = pd.to_datetime(df_calendar['date'], format='%Y-%m-%d')\n",
    "df_calendar['price'] = pd.to_numeric(df_calendar['price'].str.replace(',', '').str.replace('$', ''))\n",
    "df_calendar = df_calendar.drop(columns = ['available', 'adjusted_price', 'minimum_nights', 'maximum_nights'])"
   ]
  },
  {
   "cell_type": "code",
   "execution_count": 7,
   "metadata": {},
   "outputs": [
    {
     "data": {
      "text/plain": [
       "0"
      ]
     },
     "execution_count": 7,
     "metadata": {},
     "output_type": "execute_result"
    }
   ],
   "source": [
    "df_calendar['price'].isnull().sum()"
   ]
  },
  {
   "cell_type": "markdown",
   "metadata": {},
   "source": [
    "#### To answer: What is offered in Munich via AirBNB?"
   ]
  },
  {
   "cell_type": "code",
   "execution_count": 8,
   "metadata": {},
   "outputs": [
    {
     "data": {
      "text/plain": [
       "(9858, 106)"
      ]
     },
     "execution_count": 8,
     "metadata": {},
     "output_type": "execute_result"
    }
   ],
   "source": [
    "# number of listings\n",
    "df_listings.shape"
   ]
  },
  {
   "cell_type": "code",
   "execution_count": 9,
   "metadata": {},
   "outputs": [
    {
     "name": "stdout",
     "output_type": "stream",
     "text": [
      "2     5193\n",
      "4     1533\n",
      "3     1221\n",
      "1     1180\n",
      "6      276\n",
      "5      254\n",
      "8       96\n",
      "7       48\n",
      "10      18\n",
      "16      16\n",
      "12      12\n",
      "9        8\n",
      "14       2\n",
      "11       1\n",
      "Name: accommodates, dtype: int64\n"
     ]
    },
    {
     "data": {
      "text/plain": [
       "26082"
      ]
     },
     "execution_count": 9,
     "metadata": {},
     "output_type": "execute_result"
    }
   ],
   "source": [
    "# total number of possible guests\n",
    "print(df_listings['accommodates'].value_counts())\n",
    "sum(df_listings['accommodates'].value_counts().values * df_listings['accommodates'].value_counts().index)"
   ]
  },
  {
   "cell_type": "code",
   "execution_count": 10,
   "metadata": {},
   "outputs": [
    {
     "name": "stdout",
     "output_type": "stream",
     "text": [
      "Entire home/apt    5482\n",
      "Private room       4194\n",
      "Shared room         182\n",
      "Name: room_type, dtype: int64\n",
      "Entire home/apt    0.556097\n",
      "Private room       0.425441\n",
      "Shared room        0.018462\n",
      "Name: room_type, dtype: float64\n"
     ]
    }
   ],
   "source": [
    "# numbers and percentages of room_types\n",
    "print(df_listings['room_type'].value_counts())\n",
    "print(df_listings['room_type'].value_counts(normalize=True))"
   ]
  },
  {
   "cell_type": "code",
   "execution_count": 11,
   "metadata": {},
   "outputs": [
    {
     "name": "stdout",
     "output_type": "stream",
     "text": [
      "1      301\n",
      "2     2416\n",
      "3      857\n",
      "4     1282\n",
      "5      221\n",
      "6      238\n",
      "7       44\n",
      "8       84\n",
      "9        8\n",
      "10      15\n",
      "11       1\n",
      "12      10\n",
      "14       2\n",
      "16       3\n",
      "Name: accommodates, dtype: int64\n",
      "1     0.054907\n",
      "2     0.440715\n",
      "3     0.156330\n",
      "4     0.233856\n",
      "5     0.040314\n",
      "6     0.043415\n",
      "7     0.008026\n",
      "8     0.015323\n",
      "9     0.001459\n",
      "10    0.002736\n",
      "11    0.000182\n",
      "12    0.001824\n",
      "14    0.000365\n",
      "16    0.000547\n",
      "Name: accommodates, dtype: float64\n"
     ]
    }
   ],
   "source": [
    "# numbers and percentages of guests per Entire home/apt\n",
    "df_entire = df_listings[df_listings['room_type'] == 'Entire home/apt']\n",
    "print(df_entire['accommodates'].value_counts(dropna=False).sort_index())\n",
    "print(df_entire['accommodates'].value_counts(dropna=False, normalize=True).sort_index())"
   ]
  },
  {
   "cell_type": "code",
   "execution_count": 12,
   "metadata": {},
   "outputs": [
    {
     "name": "stdout",
     "output_type": "stream",
     "text": [
      "1      822\n",
      "2     2704\n",
      "3      341\n",
      "4      237\n",
      "5       32\n",
      "6       36\n",
      "7        2\n",
      "8        8\n",
      "10       2\n",
      "12       2\n",
      "16       8\n",
      "Name: accommodates, dtype: int64\n",
      "1     0.195994\n",
      "2     0.644731\n",
      "3     0.081307\n",
      "4     0.056509\n",
      "5     0.007630\n",
      "6     0.008584\n",
      "7     0.000477\n",
      "8     0.001907\n",
      "10    0.000477\n",
      "12    0.000477\n",
      "16    0.001907\n",
      "Name: accommodates, dtype: float64\n"
     ]
    }
   ],
   "source": [
    "# numbers and percentages of guests per Private room\n",
    "df_private = df_listings[df_listings['room_type'] == 'Private room']\n",
    "print(df_private['accommodates'].value_counts(dropna=False).sort_index())\n",
    "print(df_private['accommodates'].value_counts(dropna=False, normalize=True).sort_index())"
   ]
  },
  {
   "cell_type": "markdown",
   "metadata": {},
   "source": [
    "#### To answer:  How expensive is the stay with AirBNB in Munich?"
   ]
  },
  {
   "cell_type": "code",
   "execution_count": 13,
   "metadata": {},
   "outputs": [
    {
     "name": "stdout",
     "output_type": "stream",
     "text": [
      "accommodates = 1\n",
      "count    301.000000\n",
      "mean      91.302326\n",
      "std      132.205717\n",
      "min       13.000000\n",
      "25%       44.000000\n",
      "50%       60.000000\n",
      "75%       85.000000\n",
      "max      999.000000\n",
      "Name: price, dtype: float64\n",
      "accommodates = 2\n",
      "count    2416.000000\n",
      "mean      102.328228\n",
      "std        97.717412\n",
      "min        15.000000\n",
      "25%        60.000000\n",
      "50%        80.000000\n",
      "75%       110.000000\n",
      "max      1500.000000\n",
      "Name: price, dtype: float64\n",
      "accommodates = 3\n",
      "count    857.000000\n",
      "mean     112.050175\n",
      "std       65.709471\n",
      "min       15.000000\n",
      "25%       69.000000\n",
      "50%       90.000000\n",
      "75%      133.000000\n",
      "max      450.000000\n",
      "Name: price, dtype: float64\n",
      "accommodates = 4\n",
      "count     1282.000000\n",
      "mean       157.209828\n",
      "std        347.794418\n",
      "min         10.000000\n",
      "25%         80.000000\n",
      "50%        115.000000\n",
      "75%        180.000000\n",
      "max      12000.000000\n",
      "Name: price, dtype: float64\n"
     ]
    }
   ],
   "source": [
    "# statistics for prices for number of guests of Entire home/apt\n",
    "for i in range(1, 5):\n",
    "    print('accommodates = ' + str(i))\n",
    "    dummy = df_listings[(df_listings['room_type'] == 'Entire home/apt') & (df_listings['accommodates'] == i)]['price']\n",
    "    print(dummy.describe())"
   ]
  },
  {
   "cell_type": "code",
   "execution_count": 14,
   "metadata": {},
   "outputs": [
    {
     "name": "stdout",
     "output_type": "stream",
     "text": [
      "accommodates = 1\n",
      "count    822.000000\n",
      "mean      54.840633\n",
      "std       44.498862\n",
      "min       10.000000\n",
      "25%       32.000000\n",
      "50%       45.000000\n",
      "75%       64.750000\n",
      "max      650.000000\n",
      "Name: price, dtype: float64\n",
      "accommodates = 2\n",
      "count    2704.000000\n",
      "mean       79.555843\n",
      "std        85.327385\n",
      "min         8.000000\n",
      "25%        44.750000\n",
      "50%        61.000000\n",
      "75%        99.000000\n",
      "max      3000.000000\n",
      "Name: price, dtype: float64\n",
      "accommodates = 3\n",
      "count     341.000000\n",
      "mean       95.873900\n",
      "std        90.947942\n",
      "min        15.000000\n",
      "25%        49.000000\n",
      "50%        79.000000\n",
      "75%       110.000000\n",
      "max      1000.000000\n",
      "Name: price, dtype: float64\n",
      "accommodates = 4\n",
      "count     237.000000\n",
      "mean      115.459916\n",
      "std       102.495698\n",
      "min        27.000000\n",
      "25%        55.000000\n",
      "50%        85.000000\n",
      "75%       149.000000\n",
      "max      1000.000000\n",
      "Name: price, dtype: float64\n"
     ]
    }
   ],
   "source": [
    "# statistics for prices for number of guests of Private room\n",
    "for i in range(1, 5):\n",
    "    print('accommodates = ' + str(i))\n",
    "    dummy = df_listings[(df_listings['room_type'] == 'Private room') & (df_listings['accommodates'] == i)]['price']\n",
    "    print(dummy.describe())"
   ]
  },
  {
   "cell_type": "markdown",
   "metadata": {},
   "source": [
    "#### To answer: Do the prices change during the Octoberfest?"
   ]
  },
  {
   "cell_type": "code",
   "execution_count": 15,
   "metadata": {},
   "outputs": [
    {
     "name": "stderr",
     "output_type": "stream",
     "text": [
      "/Applications/Anaconda/anaconda3/lib/python3.7/site-packages/pandas/plotting/_converter.py:129: FutureWarning: Using an implicitly registered datetime converter for a matplotlib plotting method. The converter was registered by pandas on import. Future versions of pandas will require you to explicitly register matplotlib converters.\n",
      "\n",
      "To register the converters:\n",
      "\t>>> from pandas.plotting import register_matplotlib_converters\n",
      "\t>>> register_matplotlib_converters()\n",
      "  warnings.warn(msg, FutureWarning)\n"
     ]
    },
    {
     "data": {
      "image/png": "[encoded data removed]",
      "text/plain": [
       "<Figure size 1080x576 with 1 Axes>"
      ]
     },
     "metadata": {
      "needs_background": "light"
     },
     "output_type": "display_data"
    }
   ],
   "source": [
    "# Plot all prices during one year\n",
    "plt.plot(df_calendar['date'], df_calendar['price'], '.', ms=1);"
   ]
  },
  {
   "cell_type": "code",
   "execution_count": 16,
   "metadata": {},
   "outputs": [],
   "source": [
    "# Select the two weeks of the Octoberfest\n",
    "df_calendar_sep = df_calendar.loc[(df_calendar['date'] >= pd.to_datetime('2019-09-21', format='%Y-%m-%d')) \n",
    "                                  & (df_calendar['date'] <= pd.to_datetime('2019-10-06', format='%Y-%m-%d'))]"
   ]
  },
  {
   "cell_type": "code",
   "execution_count": 17,
   "metadata": {},
   "outputs": [],
   "source": [
    "# Select two weeks in May for reference\n",
    "df_calendar_may = df_calendar.loc[(df_calendar['date'] >= pd.to_datetime('2019-05-11', format='%Y-%m-%d'))\n",
    "                                  & (df_calendar['date'] <= pd.to_datetime('2019-05-26', format='%Y-%m-%d'))]"
   ]
  },
  {
   "cell_type": "code",
   "execution_count": 18,
   "metadata": {},
   "outputs": [
    {
     "name": "stdout",
     "output_type": "stream",
     "text": [
      "count    157632.000000\n",
      "mean        130.535932\n",
      "std         179.359341\n",
      "min          10.000000\n",
      "25%          59.000000\n",
      "50%          91.000000\n",
      "75%         150.000000\n",
      "max       12000.000000\n",
      "Name: price, dtype: float64\n",
      "count    157632.000000\n",
      "mean        105.032512\n",
      "std         160.213060\n",
      "min          10.000000\n",
      "25%          50.000000\n",
      "50%          79.000000\n",
      "75%         120.000000\n",
      "max       12000.000000\n",
      "Name: price, dtype: float64\n"
     ]
    }
   ],
   "source": [
    "# statistics for prices for the two weeks in September and May\n",
    "print(df_calendar_sep['price'].describe())\n",
    "print(df_calendar_may['price'].describe())"
   ]
  },
  {
   "cell_type": "code",
   "execution_count": 19,
   "metadata": {},
   "outputs": [],
   "source": [
    "# Calculate means for each listing for the two weeks in September and May and carry on room type\n",
    "list_listing_id = []\n",
    "list_mean_sep = []\n",
    "list_mean_may = []\n",
    "list_room_type = []\n",
    "for listing_id in pd.unique(df_calendar_sep['listing_id']):\n",
    "    list_listing_id.append(listing_id)\n",
    "    list_mean_sep.append(df_calendar_sep[df_calendar_sep['listing_id'] == listing_id]['price'].mean())\n",
    "    list_mean_may.append(df_calendar_may[df_calendar_may['listing_id'] == listing_id]['price'].mean())\n",
    "    list_room_type.append(df_listings[df_listings['id'] == listing_id]['room_type'].to_numpy())"
   ]
  },
  {
   "cell_type": "code",
   "execution_count": 20,
   "metadata": {},
   "outputs": [],
   "source": [
    "# Store means in dataframe\n",
    "df_means = pd.DataFrame({'listing_id':list_listing_id, 'mean_sep':list_mean_sep, 'mean_may':list_mean_may, 'room_type':list_room_type})"
   ]
  },
  {
   "cell_type": "code",
   "execution_count": 21,
   "metadata": {},
   "outputs": [],
   "source": [
    "# Calculate rise in prices between the two weeks in September and May\n",
    "df_means['rise'] = (df_means['mean_sep'] - df_means['mean_may'])/df_means['mean_may']"
   ]
  },
  {
   "cell_type": "code",
   "execution_count": 22,
   "metadata": {},
   "outputs": [
    {
     "data": {
      "image/png": "[encoded data removed]",
      "text/plain": [
       "<Figure size 1080x576 with 1 Axes>"
      ]
     },
     "metadata": {
      "needs_background": "light"
     },
     "output_type": "display_data"
    }
   ],
   "source": [
    "# Plot rise in price versus listing_id\n",
    "plt.plot(df_means['rise'], '.', ms=1);"
   ]
  },
  {
   "cell_type": "code",
   "execution_count": 23,
   "metadata": {},
   "outputs": [
    {
     "data": {
      "image/png": "[encoded data removed]",
      "text/plain": [
       "<Figure size 1080x576 with 1 Axes>"
      ]
     },
     "metadata": {
      "needs_background": "light"
     },
     "output_type": "display_data"
    }
   ],
   "source": [
    "# Plot number of hosts versus rise in price\n",
    "plt.plot(df_means['rise'].value_counts(dropna=False).sort_index(), '.', ms=1);"
   ]
  },
  {
   "cell_type": "code",
   "execution_count": 24,
   "metadata": {},
   "outputs": [
    {
     "name": "stdout",
     "output_type": "stream",
     "text": [
      "<0: 0.03; =0: 0.57; >0,<=1: 0.30; >1,<=2: 0.07; >2: 0.03\n"
     ]
    }
   ],
   "source": [
    "# Percentages of change in prices\n",
    "s0 = df_means[df_means['rise'] < 0].shape[0]/df_means.shape[0]\n",
    "e0 = df_means[df_means['rise'] == 0].shape[0]/df_means.shape[0]\n",
    "s1 = df_means[(df_means['rise'] > 0) & (df_means['rise'] <= 1)].shape[0]/df_means.shape[0]\n",
    "s2 = df_means[(df_means['rise'] > 1) & (df_means['rise'] <= 2)].shape[0]/df_means.shape[0]\n",
    "b = df_means[df_means['rise'] > 2].shape[0]/df_means.shape[0]\n",
    "print(\"<0:{0:5.2f}; =0:{1:5.2f}; >0,<=1:{2:5.2f}; >1,<=2:{3:5.2f}; >2:{4:5.2f}\".format(s0, e0, s1, s2, b))"
   ]
  },
  {
   "cell_type": "code",
   "execution_count": 25,
   "metadata": {},
   "outputs": [
    {
     "name": "stdout",
     "output_type": "stream",
     "text": [
      "<0: 0.03; =0: 0.55; >0,<=1: 0.31; >1,<=2: 0.07; >2: 0.03\n"
     ]
    }
   ],
   "source": [
    "# Percentages of change in prices for Entire home/apt\n",
    "df_means_entire = df_means[df_means['room_type'] == 'Entire home/apt']\n",
    "s0 = df_means_entire[df_means_entire['rise'] < 0].shape[0]/df_means_entire.shape[0]\n",
    "e0 = df_means_entire[df_means_entire['rise'] == 0].shape[0]/df_means_entire.shape[0]\n",
    "s1 = df_means_entire[(df_means_entire['rise'] > 0) & (df_means_entire['rise'] <= 1)].shape[0]/df_means_entire.shape[0]\n",
    "s2 = df_means_entire[(df_means_entire['rise'] > 1) & (df_means_entire['rise'] <= 2)].shape[0]/df_means_entire.shape[0]\n",
    "b = df_means_entire[df_means_entire['rise'] > 2].shape[0]/df_means_entire.shape[0]\n",
    "print(\"<0:{0:5.2f}; =0:{1:5.2f}; >0,<=1:{2:5.2f}; >1,<=2:{3:5.2f}; >2:{4:5.2f}\".format(s0, e0, s1, s2, b))"
   ]
  },
  {
   "cell_type": "code",
   "execution_count": 26,
   "metadata": {},
   "outputs": [
    {
     "name": "stdout",
     "output_type": "stream",
     "text": [
      "<0: 0.03; =0: 0.60; >0,<=1: 0.29; >1,<=2: 0.06; >2: 0.02\n"
     ]
    }
   ],
   "source": [
    "# Percentages of change in prices for Private room\n",
    "df_means_private = df_means[df_means['room_type'] == 'Private room']\n",
    "s0 = df_means_private[df_means_private['rise'] < 0].shape[0]/df_means_private.shape[0]\n",
    "e0 = df_means_private[df_means_private['rise'] == 0].shape[0]/df_means_private.shape[0]\n",
    "s1 = df_means_private[(df_means_private['rise'] > 0) & (df_means_private['rise'] <= 1)].shape[0]/df_means_private.shape[0]\n",
    "s2 = df_means_private[(df_means_private['rise'] > 1) & (df_means_private['rise'] <= 2)].shape[0]/df_means_private.shape[0]\n",
    "b = df_means_private[df_means_private['rise'] > 2].shape[0]/df_means_private.shape[0]\n",
    "n = df_means_private['rise'].isnull().sum()/df_means_private.shape[0]\n",
    "print(\"<0:{0:5.2f}; =0:{1:5.2f}; >0,<=1:{2:5.2f}; >1,<=2:{3:5.2f}; >2:{4:5.2f}\".format(s0, e0, s1, s2, b))"
   ]
  },
  {
   "cell_type": "code",
   "execution_count": null,
   "metadata": {},
   "outputs": [],
   "source": []
  }
 ],
 "metadata": {
  "kernelspec": {
   "display_name": "Python 3",
   "language": "python",
   "name": "python3"
  },
  "language_info": {
   "codemirror_mode": {
    "name": "ipython",
    "version": 3
   },
   "file_extension": ".py",
   "mimetype": "text/x-python",
   "name": "python",
   "nbconvert_exporter": "python",
   "pygments_lexer": "ipython3",
   "version": "3.7.3"
  }
 },
 "nbformat": 4,
 "nbformat_minor": 2
}
